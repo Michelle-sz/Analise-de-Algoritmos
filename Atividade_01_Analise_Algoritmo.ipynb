{
  "nbformat": 4,
  "nbformat_minor": 0,
  "metadata": {
    "colab": {
      "provenance": [],
      "authorship_tag": "ABX9TyME7MqjDVE0Qz5yE1f4eCj8",
      "include_colab_link": true
    },
    "kernelspec": {
      "name": "python3",
      "display_name": "Python 3"
    },
    "language_info": {
      "name": "python"
    }
  },
  "cells": [
    {
      "cell_type": "markdown",
      "metadata": {
        "id": "view-in-github",
        "colab_type": "text"
      },
      "source": [
        "<a href=\"https://colab.research.google.com/github/Michelle-sz/Analise-de-Algoritmos/blob/main/Atividade_01_Analise_Algoritmo.ipynb\" target=\"_parent\"><img src=\"https://colab.research.google.com/assets/colab-badge.svg\" alt=\"Open In Colab\"/></a>"
      ]
    },
    {
      "cell_type": "code",
      "execution_count": 1,
      "metadata": {
        "colab": {
          "base_uri": "https://localhost:8080/"
        },
        "id": "JUYxEtmC3V73",
        "outputId": "f2ccdb41-435b-4c59-9722-c4d972bc448f"
      },
      "outputs": [
        {
          "output_type": "stream",
          "name": "stdout",
          "text": [
            "=== RESULTADOS ===\n",
            "Alvo: 480576\n",
            "Pesquisa Linear -> passos: 480577, tempo: 0.056638s\n",
            "Pesquisa Binária -> passos: 20, tempo: 0.000080s\n"
          ]
        }
      ],
      "source": [
        "import time\n",
        "import random\n",
        "\n",
        "#Implementação da Pesquisa Linear\n",
        "\n",
        "def busca_linear(lista, alvo):\n",
        "    passos = 0\n",
        "    for i, valor in enumerate(lista):\n",
        "        passos += 1\n",
        "        if valor == alvo:\n",
        "            return i, passos\n",
        "    return -1, passos  # se não encontrar\n",
        "\n",
        "\n",
        "\n",
        "# Implementação da Pesquisa Binária\n",
        "\n",
        "def busca_binaria(lista, alvo):\n",
        "    esquerda, direita = 0, len(lista) - 1\n",
        "    passos = 0\n",
        "    while esquerda <= direita:\n",
        "        passos += 1\n",
        "        meio = (esquerda + direita) // 2\n",
        "        if lista[meio] == alvo:\n",
        "            return meio, passos\n",
        "        elif lista[meio] < alvo:\n",
        "            esquerda = meio + 1\n",
        "        else:\n",
        "            direita = meio - 1\n",
        "    return -1, passos\n",
        "\n",
        "\n",
        "\n",
        "#Benchmark (Tempo + Passos)\n",
        "\n",
        "N = 1_000_000\n",
        "dados = list(range(N))\n",
        "alvo = random.choice(dados)\n",
        "\n",
        "# Pesquisa Linear\n",
        "ini = time.time()\n",
        "_, passos_linear = busca_linear(dados, alvo)\n",
        "fim = time.time()\n",
        "tempo_linear = fim - ini\n",
        "\n",
        "# Pesquisa Binária\n",
        "ini = time.time()\n",
        "_, passos_binaria = busca_binaria(dados, alvo)\n",
        "fim = time.time()\n",
        "tempo_binaria = fim - ini\n",
        "\n",
        "print(\"=== RESULTADOS ===\")\n",
        "print(f\"Alvo: {alvo}\")\n",
        "print(f\"Pesquisa Linear -> passos: {passos_linear}, tempo: {tempo_linear:.6f}s\")\n",
        "print(f\"Pesquisa Binária -> passos: {passos_binaria}, tempo: {tempo_binaria:.6f}s\")\n"
      ]
    },
    {
      "cell_type": "markdown",
      "source": [
        "## **Qual a diferença entre os dois algoritmos em termos de quantidade de passos no pior caso?**\n",
        "\n",
        "Na pesquisa linear, no pior caso é preciso olhar todos os elementos da lista, então ela pode fazer até N passos. Já a pesquisa binária faz no máximo log₂(N) passos, porque a cada tentativa descarta metade da lista.\n",
        "\n",
        "\n",
        "## **Por que a busca binária exige que a lista esteja ordenada?**\n",
        "\n",
        "Porque a busca binária decide se deve procurar na metade esquerda ou direita comparando o valor do meio com o número que queremos. Se a lista não estiver em ordem, essa comparação não funciona, e o algoritmo não consegue o resultado correto.\n",
        "\n",
        "\n",
        "## **Escreva em suas palavras a diferença entre O(n) e O(log n)?**\n",
        "O(n) significa que o tempo de execução cresce proporcionalmente ao tamanho da lista. Se a lista dobrar, o número de passos também dobra.\n",
        "Já O(log n) cresce bem mais devagar. Mesmo que a lista seja muito grande, a quantidade de passos aumenta só um pouquinho."
      ],
      "metadata": {
        "id": "QZaNsSINDdl0"
      }
    }
  ]
}